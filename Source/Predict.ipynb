{
 "cells": [
  {
   "cell_type": "code",
   "execution_count": null,
   "metadata": {},
   "outputs": [],
   "source": [
    "import os\n",
    "import pandas as pd\n",
    "import json\n",
    "from svm import *\n",
    "from sklearn import svm\n",
    "from sklearn.feature_extraction.text import CountVectorizer\n",
    "from sklearn.metrics import classification_report, confusion_matrix"
   ]
  },
  {
   "cell_type": "code",
   "execution_count": null,
   "metadata": {},
   "outputs": [],
   "source": [
    "ABOSOLUTE_PATH = '../SVM/'\n",
    "SVM_PREDICTION = 'Prediction/'\n",
    "PATH_FOLDS_BOW_AND_NGRAM = 'BOWNgram/5folds/'\n",
    "PATH_FOLDS_BOW = 'BOW/5folds/'"
   ]
  },
  {
   "cell_type": "code",
   "execution_count": null,
   "metadata": {},
   "outputs": [],
   "source": [
    "def predict(fileObject, baseToPredict, feature, rootTarget):\n",
    "    if not os.path.exists(rootTarget):\n",
    "        os.makedirs(rootTarget)\n",
    "    log = {}\n",
    "        \n",
    "    svmClassifier = readObjectInFile(fileObject)\n",
    "    prediction = svmClassifier.predict(feature)    \n",
    "    savePrediction(baseToPredict, prediction, rootTarget)\n",
    "    \n",
    "    log[\"classifier\"] = svmClassifier.get_params(True)\n",
    "    report = classification_report(baseToPredict['rotulo'], prediction, output_dict=True)\n",
    "    log[\"report\"] = report\n",
    "\n",
    "    confusionMatrix = confusion_matrix(baseToPredict['rotulo'], prediction)\n",
    "    log[\"confusionMatrix\"] = str(confusionMatrix)\n",
    "    with open(rootTarget + PREDICTION_LOG, 'w') as filelog:\n",
    "        filelog.write(json.dumps(log, indent=1))\n",
    "        filelog.close()"
   ]
  },
  {
   "cell_type": "code",
   "execution_count": null,
   "metadata": {},
   "outputs": [],
   "source": [
    "def GeneratePrediction(base, dirToThisPrediction, BOWAndNgram):\n",
    "    if not os.path.exists(SVM_PREDICTION):\n",
    "        os.makedirs(SVM_PREDICTION)    \n",
    "    root = ABOSOLUTE_PATH + (PATH_FOLDS_BOW_AND_NGRAM if BOWAndNgram else PATH_FOLDS_BOW)\n",
    "    rootTarget = ABOSOLUTE_PATH + SVM_PREDICTION + ('BowAndNgram/' if BOWAndNgram else 'Bow/')\n",
    "    vectorizer = readObjectInFile( root + VECTORIZER_OBJECT_FILE)\n",
    "    feature = getFeatures(vectorizer, base)\n",
    "    \n",
    "    for dirname in os.listdir(root):\n",
    "        if dirname != VECTORIZER_OBJECT_FILE:\n",
    "            print(\"fold: \" + dirname)    \n",
    "            predict(root + dirname + \"/\" + PYTHON_OBJECT_FILE,\n",
    "                    base,\n",
    "                    feature,\n",
    "                     rootTarget + dirname + \"/\" + dirToThisPrediction)"
   ]
  },
  {
   "cell_type": "markdown",
   "metadata": {},
   "source": [
    "**Example execution**\n",
    "\n",
    "base = getBaseDF(['class1.xlsx', 'class2.xlsx'])\n",
    "\n",
    "GeneratePrediction(base, 'Ironic/', True)"
   ]
  },
  {
   "cell_type": "code",
   "execution_count": null,
   "metadata": {},
   "outputs": [],
   "source": [
    "base = getBaseDF(['/home/yulli/Desktop/Github/ColetaDeTweetsIronicosENaoIronicos/data/ironic.xlsx',\n",
    "                  '/home/yulli/Desktop/Github/ColetaDeTweetsIronicosENaoIronicos/data/notIronic.xlsx'])\n",
    "\n",
    "GeneratePrediction(base, 'Ironic/', False)"
   ]
  },
  {
   "cell_type": "code",
   "execution_count": null,
   "metadata": {},
   "outputs": [],
   "source": [
    "base = getBaseDF(['/home/yulli/Desktop/Github/ColetaDeTweetsIronicosENaoIronicos/data/ironic.xlsx',\n",
    "                  '/home/yulli/Desktop/Github/ColetaDeTweetsIronicosENaoIronicos/data/notIronic.xlsx'])\n",
    "\n",
    "GeneratePrediction(base, 'Ironic/', True)"
   ]
  },
  {
   "cell_type": "code",
   "execution_count": null,
   "metadata": {},
   "outputs": [],
   "source": []
  }
 ],
 "metadata": {
  "kernelspec": {
   "display_name": "Python 3",
   "language": "python",
   "name": "python3"
  },
  "language_info": {
   "codemirror_mode": {
    "name": "ipython",
    "version": 3
   },
   "file_extension": ".py",
   "mimetype": "text/x-python",
   "name": "python",
   "nbconvert_exporter": "python",
   "pygments_lexer": "ipython3",
   "version": "3.6.8"
  }
 },
 "nbformat": 4,
 "nbformat_minor": 2
}
